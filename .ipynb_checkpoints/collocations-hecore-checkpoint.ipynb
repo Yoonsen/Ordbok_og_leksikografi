{
 "cells": [
  {
   "cell_type": "code",
   "execution_count": 4,
   "metadata": {},
   "outputs": [],
   "source": [
    "import dhlab.nbtext as nb\n",
    "import dhlab.module_update as mu\n",
    "#mu.update('collocations', overwrite=True)\n",
    "from collocations import urn_coll, collocation\n",
    "from numpy import log"
   ]
  },
  {
   "cell_type": "code",
   "execution_count": 51,
   "metadata": {},
   "outputs": [],
   "source": [
    "\n",
    "from matplotlib import colors\n",
    "\n",
    "cmap = \"Blues\"\n",
    "\n",
    "\n",
    "def check(word):\n",
    "    return {c:inspect(frames[c]['score'], word) for c in frames if word in frames[c].index}\n",
    "\n",
    "def dist(obs_mean, expected, freq):\n",
    "    factor = ((freq-1)/(freq))*obs_mean\n",
    "    ratio = obs_mean/(obs_mean - factor)\n",
    "    return obs_mean + (expected - obs_mean)/ratio\n",
    "\n",
    "\n",
    "def create_frame(coll, expected):\n",
    "    df = nb.frame(nb.frame(coll).transpose(), 'freq doc dist'.split())\n",
    "    df['score'] = dist(df['dist'], expected, df['freq'])\n",
    "    return df\n",
    "\n",
    "def colls2df(colls, expected):\n",
    "    colls_df = dict()\n",
    "    for c in colls:\n",
    "        colls_df[c] = create_frame(colls[c], expected)\n",
    "    return colls_df\n",
    "\n",
    "def calculate_midpoint(before, after):\n",
    "    if before == 0:\n",
    "        corr = 1\n",
    "    elif after == 0:\n",
    "        corr = -1\n",
    "    else:\n",
    "        corr = 0\n",
    "    return (after - before + corr)/2\n",
    "    \n",
    "def make_collocations(word, period=(1945, 1990), step = 3, before = 0, after = 10):\n",
    "    colls = dict()\n",
    "    for year in range(period[0], period[1], step):\n",
    "        print('behandler: ', year, year + step)\n",
    "        \n",
    "        colls[(year, year + step)] = collocation(word, yearfrom = year, yearto = year + step, corpus='avis', before= 0, after = 20)\n",
    "    colls_df = colls2df(colls, calculate_midpoint(before, after))\n",
    "    return colls_df                \n",
    "\n",
    "\n",
    "score_df = lambda df: nb.frame({x:df[x]['score'] for x in df }).transpose()\n",
    "display_vals = lambda kr_df, word, clip = 0: kr_df[kr_df >= clip].loc[word]\n",
    "\n",
    "def show_frame(df, colnum = 0,  clip = 0, fillval= 10, cmap = 'Blues', up = True, axis=0, first_row=0, number_of_rows = 20): \n",
    "    if up == True:\n",
    "        cmap = cmap + '_r'\n",
    "    return df[df >= clip].sort_values(by = df.columns[colnum], ascending=up)[first_row:first_row + number_of_rows].fillna(fillval).style.background_gradient(cmap=cmap,axis=axis)"
   ]
  },
  {
   "cell_type": "code",
   "execution_count": null,
   "metadata": {},
   "outputs": [
    {
     "name": "stdout",
     "output_type": "stream",
     "text": [
      "behandler:  1965 1968\n"
     ]
    }
   ],
   "source": [
    "helse_right = make_collocations('helse', period=(1965, 1990))"
   ]
  },
  {
   "cell_type": "code",
   "execution_count": null,
   "metadata": {},
   "outputs": [],
   "source": [
    "helse_right_score = score_df(helse_right)"
   ]
  },
  {
   "cell_type": "code",
   "execution_count": null,
   "metadata": {},
   "outputs": [],
   "source": [
    "show_frame(helse_right_score, colnum=3, clip = 0, up=True)"
   ]
  },
  {
   "cell_type": "code",
   "execution_count": null,
   "metadata": {},
   "outputs": [],
   "source": []
  }
 ],
 "metadata": {
  "kernelspec": {
   "display_name": "Python 3",
   "language": "python",
   "name": "python3"
  },
  "language_info": {
   "codemirror_mode": {
    "name": "ipython",
    "version": 3
   },
   "file_extension": ".py",
   "mimetype": "text/x-python",
   "name": "python",
   "nbconvert_exporter": "python",
   "pygments_lexer": "ipython3",
   "version": "3.7.3"
  }
 },
 "nbformat": 4,
 "nbformat_minor": 2
}
