{
  "nbformat": 4,
  "nbformat_minor": 0,
  "metadata": {
    "kernelspec": {
      "display_name": "Python 3",
      "language": "python",
      "name": "python3"
    },
    "language_info": {
      "codemirror_mode": {
        "name": "ipython",
        "version": 3
      },
      "file_extension": ".py",
      "mimetype": "text/x-python",
      "name": "python",
      "nbconvert_exporter": "python",
      "pygments_lexer": "ipython3",
      "version": "3.7.3"
    },
    "colab": {
      "name": "01 Bygg Korpus med konkordans-checkpoint.ipynb",
      "provenance": [],
      "include_colab_link": true
    }
  },
  "cells": [
    {
      "cell_type": "markdown",
      "metadata": {
        "id": "view-in-github",
        "colab_type": "text"
      },
      "source": [
        "<a href=\"https://colab.research.google.com/github/Yoonsen/Ordbok_og_leksikografi/blob/master/.ipynb_checkpoints/01%20Bygg%20Korpus%20med%20konkordans-checkpoint.ipynb\" target=\"_parent\"><img src=\"https://colab.research.google.com/assets/colab-badge.svg\" alt=\"Open In Colab\"/></a>"
      ]
    },
    {
      "cell_type": "markdown",
      "metadata": {
        "id": "az68-F7Hqdzb",
        "colab_type": "text"
      },
      "source": [
        "## Oppstartceller"
      ]
    },
    {
      "cell_type": "code",
      "metadata": {
        "id": "BQSPsIyHqdzd",
        "colab_type": "code",
        "colab": {}
      },
      "source": [
        "import dhlab.nbtext as nb\n",
        "from dhlab.module_update import css\n",
        "%matplotlib inline"
      ],
      "execution_count": 0,
      "outputs": []
    },
    {
      "cell_type": "code",
      "metadata": {
        "id": "WKmyD7C_qnep",
        "colab_type": "code",
        "colab": {
          "base_uri": "https://localhost:8080/",
          "height": 275
        },
        "outputId": "817895b1-e04b-4891-d9de-ca8e12a592b9"
      },
      "source": [
        "!pip install dhlab\n"
      ],
      "execution_count": 2,
      "outputs": [
        {
          "output_type": "stream",
          "text": [
            "Collecting dhlab\n",
            "\u001b[?25l  Downloading https://files.pythonhosted.org/packages/a8/01/f279806c8c2da1b99aca74d85b50ea6f28134270b960e3d6fdc58802afcf/dhlab-0.7.5-py3-none-any.whl (63kB)\n",
            "\r\u001b[K     |█████▏                          | 10kB 18.0MB/s eta 0:00:01\r\u001b[K     |██████████▎                     | 20kB 5.6MB/s eta 0:00:01\r\u001b[K     |███████████████▌                | 30kB 7.7MB/s eta 0:00:01\r\u001b[K     |████████████████████▋           | 40kB 9.8MB/s eta 0:00:01\r\u001b[K     |█████████████████████████▊      | 51kB 6.8MB/s eta 0:00:01\r\u001b[K     |███████████████████████████████ | 61kB 7.9MB/s eta 0:00:01\r\u001b[K     |████████████████████████████████| 71kB 4.5MB/s \n",
            "\u001b[?25hRequirement already satisfied: wordcloud in /usr/local/lib/python3.6/dist-packages (from dhlab) (1.5.0)\n",
            "Requirement already satisfied: python-louvain in /usr/local/lib/python3.6/dist-packages (from dhlab) (0.13)\n",
            "Requirement already satisfied: msgpack in /usr/local/lib/python3.6/dist-packages (from dhlab) (0.5.6)\n",
            "Requirement already satisfied: beautifulsoup4 in /usr/local/lib/python3.6/dist-packages (from dhlab) (4.6.3)\n",
            "Requirement already satisfied: numpy>=1.6.1 in /usr/local/lib/python3.6/dist-packages (from wordcloud->dhlab) (1.17.3)\n",
            "Requirement already satisfied: pillow in /usr/local/lib/python3.6/dist-packages (from wordcloud->dhlab) (4.3.0)\n",
            "Requirement already satisfied: networkx in /usr/local/lib/python3.6/dist-packages (from python-louvain->dhlab) (2.4)\n",
            "Requirement already satisfied: olefile in /usr/local/lib/python3.6/dist-packages (from pillow->wordcloud->dhlab) (0.46)\n",
            "Requirement already satisfied: decorator>=4.3.0 in /usr/local/lib/python3.6/dist-packages (from networkx->python-louvain->dhlab) (4.4.0)\n",
            "Installing collected packages: dhlab\n",
            "Successfully installed dhlab-0.7.5\n"
          ],
          "name": "stdout"
        }
      ]
    },
    {
      "cell_type": "code",
      "metadata": {
        "id": "gBRF3W3Vqdzg",
        "colab_type": "code",
        "colab": {},
        "outputId": "72d9446f-0233-40bd-8861-7d0a3f288805"
      },
      "source": [
        "css()"
      ],
      "execution_count": 0,
      "outputs": [
        {
          "output_type": "execute_result",
          "data": {
            "text/html": [
              "<style>@import url(\n",
              "http://fonts.googleapis.com/css?family=Lato|Philosopher|Montserrat|Source+Code+Pro|Istok+Web|Philosopher|Assistant:200,400,700);\n",
              "\n",
              "/*\n",
              "#notebook-container {\n",
              "\t-webkit-box-shadow: none;\n",
              "\tbox-shadow: none;\n",
              "}\n",
              "*/\n",
              "\n",
              "h1, h2, h3, h4, h5, h6 {\n",
              "\tfont-family: 'Montserrat', sans-serif;\n",
              "\tline-height: 2em;\n",
              "    color: #004f99;\n",
              "    font-weight: 600;\n",
              "}\n",
              "\n",
              "h1 { font-size: 4.5em; }\n",
              "h2 { font-size: 4em; }\n",
              "h3 { font-size: 3.5em; }\n",
              "h4 { font-size: 3em; }\n",
              "h5 { font-size: 2.5em; color:DarkSlateGray; }\n",
              "h6 { font-size: 2em; }\n",
              "\n",
              "p {\n",
              "\tfont-family: 'Assistant', sans-serif; \n",
              "\tfont-size: 1.2em;\n",
              "\tline-height: 1.4em;\n",
              "\tcolor: black;\n",
              "}\n",
              "p code {\n",
              "\tfont-size:0.9em;\n",
              "}\n",
              "div.input_area {\n",
              "\tborder:none !important;\n",
              "\tborder-left:1px solid #ff851b !important\n",
              "}\n",
              "\n",
              "span.cm-keyword {\n",
              "\tcolor:#339966 !important;\n",
              "}\n",
              "span.nn {  /*span.cm-variable, span.cm-property*/\n",
              "\tcolor: #3399ff !important;\n",
              "}\n",
              "div.CodeMirror {\n",
              "\tfont-family: 'Inconsolata', monospace;\n",
              "\tfont-size: 1.1em;\n",
              "\t\n",
              "}\n",
              "</style>"
            ],
            "text/plain": [
              "<IPython.core.display.HTML object>"
            ]
          },
          "metadata": {
            "tags": []
          },
          "execution_count": 2
        }
      ]
    },
    {
      "cell_type": "markdown",
      "metadata": {
        "id": "iCtX2_Bbqdzi",
        "colab_type": "text"
      },
      "source": [
        "## Bygg korpus\n",
        "\n",
        "Korpuset er en definisjon av et korpus, og består av en samling URN-er.\n"
      ]
    },
    {
      "cell_type": "markdown",
      "metadata": {
        "id": "52Hx1-GTqdzj",
        "colab_type": "text"
      },
      "source": [
        "Korpuset defineres med metadata som dewey, emneord, navn , år, etc. Her kan [Webdewey](http://deweysearchno.pansoft.de/webdeweysearch/index.html) være til god hjelp.\n",
        "\n",
        "Kommandoen er `book_urn()`"
      ]
    },
    {
      "cell_type": "code",
      "metadata": {
        "id": "EPVT-Lheqdzj",
        "colab_type": "code",
        "colab": {
          "base_uri": "https://localhost:8080/",
          "height": 359
        },
        "outputId": "30664f36-020f-48d9-ac5d-1d9c7b1aeccc"
      },
      "source": [
        "nb.book_corpus(ddk='9%', subject='fiske', period=(1970, 2000), limit=10)\n"
      ],
      "execution_count": 4,
      "outputs": [
        {
          "output_type": "execute_result",
          "data": {
            "text/html": [
              "<div>\n",
              "<style scoped>\n",
              "    .dataframe tbody tr th:only-of-type {\n",
              "        vertical-align: middle;\n",
              "    }\n",
              "\n",
              "    .dataframe tbody tr th {\n",
              "        vertical-align: top;\n",
              "    }\n",
              "\n",
              "    .dataframe thead th {\n",
              "        text-align: right;\n",
              "    }\n",
              "</style>\n",
              "<table border=\"1\" class=\"dataframe\">\n",
              "  <thead>\n",
              "    <tr style=\"text-align: right;\">\n",
              "      <th></th>\n",
              "      <th>urn</th>\n",
              "      <th>author</th>\n",
              "      <th>title</th>\n",
              "      <th>year</th>\n",
              "    </tr>\n",
              "  </thead>\n",
              "  <tbody>\n",
              "    <tr>\n",
              "      <th>0</th>\n",
              "      <td>2010110108089</td>\n",
              "      <td>Siri, Vigdis</td>\n",
              "      <td>Buorresárku</td>\n",
              "      <td>1997</td>\n",
              "    </tr>\n",
              "    <tr>\n",
              "      <th>1</th>\n",
              "      <td>2008031404015</td>\n",
              "      <td>Bertelsen, Reidar</td>\n",
              "      <td>Vágar</td>\n",
              "      <td>1995</td>\n",
              "    </tr>\n",
              "    <tr>\n",
              "      <th>2</th>\n",
              "      <td>2015070708170</td>\n",
              "      <td>Foss, Johan G.</td>\n",
              "      <td>Elevhefte for grunnskolen</td>\n",
              "      <td>1984</td>\n",
              "    </tr>\n",
              "    <tr>\n",
              "      <th>3</th>\n",
              "      <td>2011022308021</td>\n",
              "      <td>Reiersen, Inger</td>\n",
              "      <td>Fra kveiteeksport til kveitmuseum</td>\n",
              "      <td>1995</td>\n",
              "    </tr>\n",
              "    <tr>\n",
              "      <th>4</th>\n",
              "      <td>2010120908049</td>\n",
              "      <td>Siri, Vigdis</td>\n",
              "      <td>Buorresárku</td>\n",
              "      <td>1998</td>\n",
              "    </tr>\n",
              "    <tr>\n",
              "      <th>5</th>\n",
              "      <td>2011010508063</td>\n",
              "      <td>Bratrein, Håvard Dahl</td>\n",
              "      <td>Among church cottages and goats in Alfred Erik...</td>\n",
              "      <td>1996</td>\n",
              "    </tr>\n",
              "    <tr>\n",
              "      <th>6</th>\n",
              "      <td>2014100108039</td>\n",
              "      <td></td>\n",
              "      <td>Med havet som levevei</td>\n",
              "      <td>1995</td>\n",
              "    </tr>\n",
              "    <tr>\n",
              "      <th>7</th>\n",
              "      <td>2008071504074</td>\n",
              "      <td></td>\n",
              "      <td>Steine</td>\n",
              "      <td>1997</td>\n",
              "    </tr>\n",
              "    <tr>\n",
              "      <th>8</th>\n",
              "      <td>2014092906049</td>\n",
              "      <td>Leira, Astrid Daatland</td>\n",
              "      <td>Det sukker i gamle sjøbuer -</td>\n",
              "      <td>1982</td>\n",
              "    </tr>\n",
              "    <tr>\n",
              "      <th>9</th>\n",
              "      <td>2008073100096</td>\n",
              "      <td>Schjelderup, Hans Hille</td>\n",
              "      <td>Båt til lyst</td>\n",
              "      <td>1997</td>\n",
              "    </tr>\n",
              "  </tbody>\n",
              "</table>\n",
              "</div>"
            ],
            "text/plain": [
              "             urn  ...  year\n",
              "0  2010110108089  ...  1997\n",
              "1  2008031404015  ...  1995\n",
              "2  2015070708170  ...  1984\n",
              "3  2011022308021  ...  1995\n",
              "4  2010120908049  ...  1998\n",
              "5  2011010508063  ...  1996\n",
              "6  2014100108039  ...  1995\n",
              "7  2008071504074  ...  1997\n",
              "8  2014092906049  ...  1982\n",
              "9  2008073100096  ...  1997\n",
              "\n",
              "[10 rows x 4 columns]"
            ]
          },
          "metadata": {
            "tags": []
          },
          "execution_count": 4
        }
      ]
    },
    {
      "cell_type": "markdown",
      "metadata": {
        "id": "xwLZY4hOqdzl",
        "colab_type": "text"
      },
      "source": [
        "#### Legg korpuset i en variabel\n",
        "\n",
        "Variabelen brukes til å referere til korpuset senere"
      ]
    },
    {
      "cell_type": "code",
      "metadata": {
        "id": "rGQkzaf2qdzm",
        "colab_type": "code",
        "colab": {
          "base_uri": "https://localhost:8080/",
          "height": 669
        },
        "outputId": "aefdb084-eb2d-4442-c1f6-09dec93fcf3c"
      },
      "source": [
        "korpus = nb.book_corpus(ddk=\"9%\", subject=\"reindrift\", period=(1960, 2020))\n",
        "korpus"
      ],
      "execution_count": 5,
      "outputs": [
        {
          "output_type": "execute_result",
          "data": {
            "text/html": [
              "<div>\n",
              "<style scoped>\n",
              "    .dataframe tbody tr th:only-of-type {\n",
              "        vertical-align: middle;\n",
              "    }\n",
              "\n",
              "    .dataframe tbody tr th {\n",
              "        vertical-align: top;\n",
              "    }\n",
              "\n",
              "    .dataframe thead th {\n",
              "        text-align: right;\n",
              "    }\n",
              "</style>\n",
              "<table border=\"1\" class=\"dataframe\">\n",
              "  <thead>\n",
              "    <tr style=\"text-align: right;\">\n",
              "      <th></th>\n",
              "      <th>urn</th>\n",
              "      <th>author</th>\n",
              "      <th>title</th>\n",
              "      <th>year</th>\n",
              "    </tr>\n",
              "  </thead>\n",
              "  <tbody>\n",
              "    <tr>\n",
              "      <th>0</th>\n",
              "      <td>2014071608184</td>\n",
              "      <td>Sommerseth, Ingrid</td>\n",
              "      <td>Villreinfangst og tamreindrift i indre Troms</td>\n",
              "      <td>2009</td>\n",
              "    </tr>\n",
              "    <tr>\n",
              "      <th>1</th>\n",
              "      <td>2009072901035</td>\n",
              "      <td>Daugstad, Karoline</td>\n",
              "      <td>Bergverksbyens omland</td>\n",
              "      <td>1999</td>\n",
              "    </tr>\n",
              "    <tr>\n",
              "      <th>2</th>\n",
              "      <td>2012052105065</td>\n",
              "      <td>Storli, Inger</td>\n",
              "      <td>\"Stallo\"-boplassene</td>\n",
              "      <td>1994</td>\n",
              "    </tr>\n",
              "    <tr>\n",
              "      <th>3</th>\n",
              "      <td>2010032503033</td>\n",
              "      <td>Eriksen, Leif</td>\n",
              "      <td>Sámiid historjá</td>\n",
              "      <td>1996</td>\n",
              "    </tr>\n",
              "    <tr>\n",
              "      <th>4</th>\n",
              "      <td>2013120906074</td>\n",
              "      <td></td>\n",
              "      <td>Sjøsamene ved Varangerfjorden</td>\n",
              "      <td>2005</td>\n",
              "    </tr>\n",
              "    <tr>\n",
              "      <th>5</th>\n",
              "      <td>2014071608083</td>\n",
              "      <td></td>\n",
              "      <td>Spenningenes land</td>\n",
              "      <td>1997</td>\n",
              "    </tr>\n",
              "    <tr>\n",
              "      <th>6</th>\n",
              "      <td>2016042648022</td>\n",
              "      <td>Nyaas, Arne</td>\n",
              "      <td>Forollhogna, Skarvan og Roltdalen</td>\n",
              "      <td>2009</td>\n",
              "    </tr>\n",
              "    <tr>\n",
              "      <th>7</th>\n",
              "      <td>2012102306026</td>\n",
              "      <td>Prestbakmo, Hans</td>\n",
              "      <td>Natur, tanker og mennesker i grenseland</td>\n",
              "      <td>2002</td>\n",
              "    </tr>\n",
              "    <tr>\n",
              "      <th>8</th>\n",
              "      <td>2011022803001</td>\n",
              "      <td>Johansen, Elisabeth</td>\n",
              "      <td>Sápmi</td>\n",
              "      <td>2007</td>\n",
              "    </tr>\n",
              "    <tr>\n",
              "      <th>9</th>\n",
              "      <td>2015082548041</td>\n",
              "      <td></td>\n",
              "      <td>Fra villreinjakt til reindrift</td>\n",
              "      <td>2005</td>\n",
              "    </tr>\n",
              "    <tr>\n",
              "      <th>10</th>\n",
              "      <td>2012111607025</td>\n",
              "      <td>Henriksen, Vera</td>\n",
              "      <td>Veodalen</td>\n",
              "      <td>2001</td>\n",
              "    </tr>\n",
              "    <tr>\n",
              "      <th>11</th>\n",
              "      <td>2010111108028</td>\n",
              "      <td>Vorren, Ørnulv</td>\n",
              "      <td>Samer, rein og gull i Alaska</td>\n",
              "      <td>1990</td>\n",
              "    </tr>\n",
              "    <tr>\n",
              "      <th>12</th>\n",
              "      <td>2014110607503</td>\n",
              "      <td>Ravna, Øyvind</td>\n",
              "      <td>Tundraens folk</td>\n",
              "      <td>2001</td>\n",
              "    </tr>\n",
              "    <tr>\n",
              "      <th>13</th>\n",
              "      <td>2015090306049</td>\n",
              "      <td>Jünge, Åke</td>\n",
              "      <td>Spor etter samar i Midt- og Sør-Skandinavia</td>\n",
              "      <td>1996</td>\n",
              "    </tr>\n",
              "    <tr>\n",
              "      <th>14</th>\n",
              "      <td>2009012000087</td>\n",
              "      <td></td>\n",
              "      <td>Bygdebok for Meråker</td>\n",
              "      <td>2002</td>\n",
              "    </tr>\n",
              "    <tr>\n",
              "      <th>15</th>\n",
              "      <td>2008010400024</td>\n",
              "      <td></td>\n",
              "      <td>Bruk av land og vann i Finnmark i historisk pe...</td>\n",
              "      <td>1994</td>\n",
              "    </tr>\n",
              "    <tr>\n",
              "      <th>16</th>\n",
              "      <td>2012102208080</td>\n",
              "      <td></td>\n",
              "      <td>Grenser i Sameland</td>\n",
              "      <td>1989</td>\n",
              "    </tr>\n",
              "    <tr>\n",
              "      <th>17</th>\n",
              "      <td>2014121708066</td>\n",
              "      <td>Ravna, Øyvind</td>\n",
              "      <td>Kampen om tundraen</td>\n",
              "      <td>2002</td>\n",
              "    </tr>\n",
              "    <tr>\n",
              "      <th>18</th>\n",
              "      <td>2011021108100</td>\n",
              "      <td>Keskitalo, Alf Isak</td>\n",
              "      <td>Guovdageainnu suohkangirji =</td>\n",
              "      <td>1998</td>\n",
              "    </tr>\n",
              "    <tr>\n",
              "      <th>19</th>\n",
              "      <td>2016062048027</td>\n",
              "      <td>Sassi, Dino</td>\n",
              "      <td>Lapponia</td>\n",
              "      <td>1983</td>\n",
              "    </tr>\n",
              "  </tbody>\n",
              "</table>\n",
              "</div>"
            ],
            "text/plain": [
              "              urn  ...  year\n",
              "0   2014071608184  ...  2009\n",
              "1   2009072901035  ...  1999\n",
              "2   2012052105065  ...  1994\n",
              "3   2010032503033  ...  1996\n",
              "4   2013120906074  ...  2005\n",
              "5   2014071608083  ...  1997\n",
              "6   2016042648022  ...  2009\n",
              "7   2012102306026  ...  2002\n",
              "8   2011022803001  ...  2007\n",
              "9   2015082548041  ...  2005\n",
              "10  2012111607025  ...  2001\n",
              "11  2010111108028  ...  1990\n",
              "12  2014110607503  ...  2001\n",
              "13  2015090306049  ...  1996\n",
              "14  2009012000087  ...  2002\n",
              "15  2008010400024  ...  1994\n",
              "16  2012102208080  ...  1989\n",
              "17  2014121708066  ...  2002\n",
              "18  2011021108100  ...  1998\n",
              "19  2016062048027  ...  1983\n",
              "\n",
              "[20 rows x 4 columns]"
            ]
          },
          "metadata": {
            "tags": []
          },
          "execution_count": 5
        }
      ]
    },
    {
      "cell_type": "markdown",
      "metadata": {
        "id": "BGA80wh2qdzo",
        "colab_type": "text"
      },
      "source": [
        "Prøve å definere et eget korpus, eksperimenter med forskjellige kombinasjoner. Bruk `shift-tab` for å se hva som kan fylles inn. Hold gjerne `limit=10` eller mindre i første omgang."
      ]
    },
    {
      "cell_type": "code",
      "metadata": {
        "id": "PgAOR6ySqdzo",
        "colab_type": "code",
        "colab": {}
      },
      "source": [
        "# legg inn egen kommando her\n"
      ],
      "execution_count": 0,
      "outputs": []
    },
    {
      "cell_type": "code",
      "metadata": {
        "id": "yXXRteVLqdzq",
        "colab_type": "code",
        "colab": {}
      },
      "source": [
        ""
      ],
      "execution_count": 0,
      "outputs": []
    },
    {
      "cell_type": "markdown",
      "metadata": {
        "id": "KXMDFhavqdzr",
        "colab_type": "text"
      },
      "source": [
        "## Finere kontroll i en editor"
      ]
    },
    {
      "cell_type": "code",
      "metadata": {
        "id": "Et8NnJqvqdzs",
        "colab_type": "code",
        "colab": {}
      },
      "source": [
        ""
      ],
      "execution_count": 0,
      "outputs": []
    },
    {
      "cell_type": "markdown",
      "metadata": {
        "id": "WYafGNejqdzt",
        "colab_type": "text"
      },
      "source": [
        "## Konkordans\n",
        "\n",
        "Kommando for å lage konkordanser fra et sett med URN-er er `urn_concordance()` (OBS! Korpuset bør være under 100 bøker for responsivitet - etterpå skal vi se hvordan det kan speedes opp)"
      ]
    },
    {
      "cell_type": "code",
      "metadata": {
        "id": "SAqeIEKTqdzu",
        "colab_type": "code",
        "colab": {
          "base_uri": "https://localhost:8080/",
          "height": 57
        },
        "outputId": "fb819524-8f86-4745-efc8-9295b22fac91"
      },
      "source": [
        "nb.urn_concordance(word = 'skreien', urns = korpus, before = 10, after = 10)"
      ],
      "execution_count": 6,
      "outputs": [
        {
          "output_type": "execute_result",
          "data": {
            "text/html": [
              "<table><tr>\n",
              "                <td>\n",
              "                    <a href='http://www.nb.no/items/URN:NBN:no-nb_digibok_2008010400024?searchText=skreien' target='_blank' style='text-decoration:none'>Bruk av land og vann i Finnmark i historisk perspektiv, , 1994</a>\n",
              "                </td>\n",
              "                <td>i det vesentlige ha vært basert på sesongmessig utnyttelse av</td>\n",
              "                <td>skreien</td>\n",
              "                <td style='text-align:left'>utenfor Breivik på Sørøya , og loddetorsken østover mot Varanger</td>\n",
              "            </tr>\n",
              "</table>"
            ],
            "text/plain": [
              "<IPython.core.display.HTML object>"
            ]
          },
          "metadata": {
            "tags": []
          },
          "execution_count": 6
        }
      ]
    },
    {
      "cell_type": "markdown",
      "metadata": {
        "id": "th5kJB6Vqdzw",
        "colab_type": "text"
      },
      "source": [
        "## Hent fra fritekst\n",
        "\n",
        "Søk ette bøker på [nb.no](https://www.nb.no/search?q=), legg til *debugon* sammen med søkekriteriet. Kopier hele siden (ctrl-A) og lim inn resultatet mellom \"\"\" ... \"\"\" nedenfor. Kommandoen som brukes er `pure_urn(<tekst>)` som prøver å finne URN-er i alt mulig av tekst."
      ]
    },
    {
      "cell_type": "code",
      "metadata": {
        "id": "TYchkS5jqdzw",
        "colab_type": "code",
        "colab": {}
      },
      "source": [
        "fritt_korpus = nb.pure_urn(\"\"\"\n",
        "\n",
        "--- lim inn tekst her med ctrl-V\n",
        "\turn\tauthor\ttitle\tyear\n",
        "0\t2007042502003\t\tFragment av samisk historie\t1995\n",
        "1\t2012102306026\tPrestbakmo, Hans\tNatur, tanker og mennesker i grenseland\t2002\n",
        "2\t2014071608184\tSommerseth, Ingrid\tVillreinfangst og tamreindrift i indre Troms\t2009\n",
        "3\t2010032307035\t\tI villreinens rike\t1999\n",
        "4\t2012111607025\tHenriksen, Vera\tVeodalen\t2001\n",
        "5\t2014050706037\tAndersen, Roy\tRedningsmenn og lykkejegere\t2011\n",
        "6\t2015082548041\t\tFra villreinjakt til reindrift\t2005\n",
        "7\t2013120906074\t\tSjøsamene ved Varangerfjorden\t2005\n",
        "8\t2007072300047\tVorren, Ørnulv\tSamekulturen\t1976\n",
        "9\t2009072901035\tDaugstad, Karoline\tBergverksbyens omland\t199\n",
        "\n",
        "\"\"\")"
      ],
      "execution_count": 0,
      "outputs": []
    },
    {
      "cell_type": "code",
      "metadata": {
        "id": "eejd4kV9qdzy",
        "colab_type": "code",
        "colab": {}
      },
      "source": [
        ""
      ],
      "execution_count": 0,
      "outputs": []
    },
    {
      "cell_type": "code",
      "metadata": {
        "id": "6OAMWlzPqdzz",
        "colab_type": "code",
        "colab": {
          "base_uri": "https://localhost:8080/",
          "height": 102
        },
        "outputId": "ce002795-d174-414d-a845-e07533a80bb9"
      },
      "source": [
        "fritt_korpus[:5]"
      ],
      "execution_count": 8,
      "outputs": [
        {
          "output_type": "execute_result",
          "data": {
            "text/plain": [
              "['2007042502003',\n",
              " '2012102306026',\n",
              " '2014071608184',\n",
              " '2010032307035',\n",
              " '2012111607025']"
            ]
          },
          "metadata": {
            "tags": []
          },
          "execution_count": 8
        }
      ]
    },
    {
      "cell_type": "code",
      "metadata": {
        "id": "d0qZgi21qdz1",
        "colab_type": "code",
        "colab": {
          "base_uri": "https://localhost:8080/",
          "height": 1000
        },
        "outputId": "5ea0b912-f387-4f32-f1bb-512e108947d3"
      },
      "source": [
        "nb.urn_concordance(word='arbeid', urns = fritt_korpus)"
      ],
      "execution_count": 9,
      "outputs": [
        {
          "output_type": "execute_result",
          "data": {
            "text/html": [
              "<table><tr>\n",
              "                <td>\n",
              "                    <a href='http://www.nb.no/items/URN:NBN:no-nb_digibok_2007042502003?searchText=arbeid' target='_blank' style='text-decoration:none'>Fragment av samisk historie, , 1995</a>\n",
              "                </td>\n",
              "                <td>at det var et tidkrevende</td>\n",
              "                <td>arbeid</td>\n",
              "                <td style='text-align:left'>. Selve melkeprosessen var ikke</td>\n",
              "            </tr>\n",
              "<tr>\n",
              "                <td>\n",
              "                    <a href='http://www.nb.no/items/URN:NBN:no-nb_digibok_2007042502003?searchText=arbeid' target='_blank' style='text-decoration:none'>Fragment av samisk historie, , 1995</a>\n",
              "                </td>\n",
              "                <td>korbinckeiBe rne6 von > VeBtenB</td>\n",
              "                <td>arbeid</td>\n",
              "                <td style='text-align:left'>ine6 a KriBtne Barnene ,</td>\n",
              "            </tr>\n",
              "<tr>\n",
              "                <td>\n",
              "                    <a href='http://www.nb.no/items/URN:NBN:no-nb_digibok_2007042502003?searchText=arbeid' target='_blank' style='text-decoration:none'>Fragment av samisk historie, , 1995</a>\n",
              "                </td>\n",
              "                <td>med major ? eter BcknitlerB</td>\n",
              "                <td>arbeid</td>\n",
              "                <td style='text-align:left'>med ZrenBeoppmalinZen i 1742 ,</td>\n",
              "            </tr>\n",
              "<tr>\n",
              "                <td>\n",
              "                    <a href='http://www.nb.no/items/URN:NBN:no-nb_digibok_2007042502003?searchText=arbeid' target='_blank' style='text-decoration:none'>Fragment av samisk historie, , 1995</a>\n",
              "                </td>\n",
              "                <td>resultat av de to kommisjonenes</td>\n",
              "                <td>arbeid</td>\n",
              "                <td style='text-align:left'>ble et felles lovframlegg med</td>\n",
              "            </tr>\n",
              "<tr>\n",
              "                <td>\n",
              "                    <a href='http://www.nb.no/items/URN:NBN:no-nb_digibok_2007042502003?searchText=arbeid' target='_blank' style='text-decoration:none'>Fragment av samisk historie, , 1995</a>\n",
              "                </td>\n",
              "                <td>U iB9o n Fra misjoners</td>\n",
              "                <td>arbeid</td>\n",
              "                <td style='text-align:left'>som førte til Lov om</td>\n",
              "            </tr>\n",
              "<tr>\n",
              "                <td>\n",
              "                    <a href='http://www.nb.no/items/URN:NBN:no-nb_digibok_2012102306026?searchText=arbeid' target='_blank' style='text-decoration:none'>Natur, tanker og mennesker i grenseland, Prestbakmo, Hans, 2002</a>\n",
              "                </td>\n",
              "                <td>over , var det mye</td>\n",
              "                <td>arbeid</td>\n",
              "                <td style='text-align:left'>, men anleggene var effektive</td>\n",
              "            </tr>\n",
              "<tr>\n",
              "                <td>\n",
              "                    <a href='http://www.nb.no/items/URN:NBN:no-nb_digibok_2012102306026?searchText=arbeid' target='_blank' style='text-decoration:none'>Natur, tanker og mennesker i grenseland, Prestbakmo, Hans, 2002</a>\n",
              "                </td>\n",
              "                <td>, kvinner og barn i</td>\n",
              "                <td>arbeid</td>\n",
              "                <td style='text-align:left'>mens sola sto over fjellene</td>\n",
              "            </tr>\n",
              "<tr>\n",
              "                <td>\n",
              "                    <a href='http://www.nb.no/items/URN:NBN:no-nb_digibok_2012102306026?searchText=arbeid' target='_blank' style='text-decoration:none'>Natur, tanker og mennesker i grenseland, Prestbakmo, Hans, 2002</a>\n",
              "                </td>\n",
              "                <td>høstdag . Det var mye</td>\n",
              "                <td>arbeid</td>\n",
              "                <td style='text-align:left'>som skulle gjøres før trekket</td>\n",
              "            </tr>\n",
              "<tr>\n",
              "                <td>\n",
              "                    <a href='http://www.nb.no/items/URN:NBN:no-nb_digibok_2012102306026?searchText=arbeid' target='_blank' style='text-decoration:none'>Natur, tanker og mennesker i grenseland, Prestbakmo, Hans, 2002</a>\n",
              "                </td>\n",
              "                <td>på norsk side som hadde</td>\n",
              "                <td>arbeid</td>\n",
              "                <td style='text-align:left'>på banen , var dette</td>\n",
              "            </tr>\n",
              "<tr>\n",
              "                <td>\n",
              "                    <a href='http://www.nb.no/items/URN:NBN:no-nb_digibok_2012102306026?searchText=arbeid' target='_blank' style='text-decoration:none'>Natur, tanker og mennesker i grenseland, Prestbakmo, Hans, 2002</a>\n",
              "                </td>\n",
              "                <td>fortsatt brukt i forbindelse med</td>\n",
              "                <td>arbeid</td>\n",
              "                <td style='text-align:left'>med reinen .</td>\n",
              "            </tr>\n",
              "<tr>\n",
              "                <td>\n",
              "                    <a href='http://www.nb.no/items/URN:NBN:no-nb_digibok_2014071608184?searchText=arbeid' target='_blank' style='text-decoration:none'>Villreinfangst og tamreindrift i indre Troms, Sommerseth, Ingrid, 2009</a>\n",
              "                </td>\n",
              "                <td>) viser til i sitt</td>\n",
              "                <td>arbeid</td>\n",
              "                <td style='text-align:left'>med Inuit fangstlandskap i Nunavut</td>\n",
              "            </tr>\n",
              "<tr>\n",
              "                <td>\n",
              "                    <a href='http://www.nb.no/items/URN:NBN:no-nb_digibok_2014071608184?searchText=arbeid' target='_blank' style='text-decoration:none'>Villreinfangst og tamreindrift i indre Troms, Sommerseth, Ingrid, 2009</a>\n",
              "                </td>\n",
              "                <td>preget synet på liv ,</td>\n",
              "                <td>arbeid</td>\n",
              "                <td style='text-align:left'>, samfunn og kunnskapsproduksjon (</td>\n",
              "            </tr>\n",
              "<tr>\n",
              "                <td>\n",
              "                    <a href='http://www.nb.no/items/URN:NBN:no-nb_digibok_2014071608184?searchText=arbeid' target='_blank' style='text-decoration:none'>Villreinfangst og tamreindrift i indre Troms, Sommerseth, Ingrid, 2009</a>\n",
              "                </td>\n",
              "                <td>at man la ned mye</td>\n",
              "                <td>arbeid</td>\n",
              "                <td style='text-align:left'>i å konstruere og organisere</td>\n",
              "            </tr>\n",
              "<tr>\n",
              "                <td>\n",
              "                    <a href='http://www.nb.no/items/URN:NBN:no-nb_digibok_2014071608184?searchText=arbeid' target='_blank' style='text-decoration:none'>Villreinfangst og tamreindrift i indre Troms, Sommerseth, Ingrid, 2009</a>\n",
              "                </td>\n",
              "                <td>fjellsamebyene i Sverige , deles</td>\n",
              "                <td>arbeid</td>\n",
              "                <td style='text-align:left'>med flokkene på familiehushold og</td>\n",
              "            </tr>\n",
              "<tr>\n",
              "                <td>\n",
              "                    <a href='http://www.nb.no/items/URN:NBN:no-nb_digibok_2014071608184?searchText=arbeid' target='_blank' style='text-decoration:none'>Villreinfangst og tamreindrift i indre Troms, Sommerseth, Ingrid, 2009</a>\n",
              "                </td>\n",
              "                <td>Olaus Magnus \" store</td>\n",
              "                <td>arbeid</td>\n",
              "                <td style='text-align:left'>om de nordiske folkenes historie</td>\n",
              "            </tr>\n",
              "<tr>\n",
              "                <td>\n",
              "                    <a href='http://www.nb.no/items/URN:NBN:no-nb_digibok_2010032307035?searchText=arbeid' target='_blank' style='text-decoration:none'>I villreinens rike, , 1999</a>\n",
              "                </td>\n",
              "                <td>takke alle artikkelforfatterne for franiragenede</td>\n",
              "                <td>arbeid</td>\n",
              "                <td style='text-align:left'>med å skaffe til vei</td>\n",
              "            </tr>\n",
              "<tr>\n",
              "                <td>\n",
              "                    <a href='http://www.nb.no/items/URN:NBN:no-nb_digibok_2010032307035?searchText=arbeid' target='_blank' style='text-decoration:none'>I villreinens rike, , 1999</a>\n",
              "                </td>\n",
              "                <td>og elet er et imponerende</td>\n",
              "                <td>arbeid</td>\n",
              "                <td style='text-align:left'>. Løsmassene er dessverre lite</td>\n",
              "            </tr>\n",
              "<tr>\n",
              "                <td>\n",
              "                    <a href='http://www.nb.no/items/URN:NBN:no-nb_digibok_2010032307035?searchText=arbeid' target='_blank' style='text-decoration:none'>I villreinens rike, , 1999</a>\n",
              "                </td>\n",
              "                <td>partera . Det er eit</td>\n",
              "                <td>arbeid</td>\n",
              "                <td style='text-align:left'>som Tarjei utfører mccl eit</td>\n",
              "            </tr>\n",
              "<tr>\n",
              "                <td>\n",
              "                    <a href='http://www.nb.no/items/URN:NBN:no-nb_digibok_2010032307035?searchText=arbeid' target='_blank' style='text-decoration:none'>I villreinens rike, , 1999</a>\n",
              "                </td>\n",
              "                <td>Heiberg la ned et stort</td>\n",
              "                <td>arbeid</td>\n",
              "                <td style='text-align:left'>med å gjøre Njardarheim tilgjengelig</td>\n",
              "            </tr>\n",
              "<tr>\n",
              "                <td>\n",
              "                    <a href='http://www.nb.no/items/URN:NBN:no-nb_digibok_2010032307035?searchText=arbeid' target='_blank' style='text-decoration:none'>I villreinens rike, , 1999</a>\n",
              "                </td>\n",
              "                <td>han gjennom flere tiår ga</td>\n",
              "                <td>arbeid</td>\n",
              "                <td style='text-align:left'>til mange . Det var</td>\n",
              "            </tr>\n",
              "<tr>\n",
              "                <td>\n",
              "                    <a href='http://www.nb.no/items/URN:NBN:no-nb_digibok_2012111607025?searchText=arbeid' target='_blank' style='text-decoration:none'>Veodalen, Henriksen, Vera, 2001</a>\n",
              "                </td>\n",
              "                <td>. det andre gjengen i</td>\n",
              "                <td>arbeid</td>\n",
              "                <td style='text-align:left'>.</td>\n",
              "            </tr>\n",
              "<tr>\n",
              "                <td>\n",
              "                    <a href='http://www.nb.no/items/URN:NBN:no-nb_digibok_2012111607025?searchText=arbeid' target='_blank' style='text-decoration:none'>Veodalen, Henriksen, Vera, 2001</a>\n",
              "                </td>\n",
              "                <td>kunne vente seg for annet</td>\n",
              "                <td>arbeid</td>\n",
              "                <td style='text-align:left'>. Men arbeidet kunne være</td>\n",
              "            </tr>\n",
              "<tr>\n",
              "                <td>\n",
              "                    <a href='http://www.nb.no/items/URN:NBN:no-nb_digibok_2012111607025?searchText=arbeid' target='_blank' style='text-decoration:none'>Veodalen, Henriksen, Vera, 2001</a>\n",
              "                </td>\n",
              "                <td>tid var 10 mann i</td>\n",
              "                <td>arbeid</td>\n",
              "                <td style='text-align:left'>.</td>\n",
              "            </tr>\n",
              "<tr>\n",
              "                <td>\n",
              "                    <a href='http://www.nb.no/items/URN:NBN:no-nb_digibok_2012111607025?searchText=arbeid' target='_blank' style='text-decoration:none'>Veodalen, Henriksen, Vera, 2001</a>\n",
              "                </td>\n",
              "                <td>først - det gjaldt</td>\n",
              "                <td>arbeid</td>\n",
              "                <td style='text-align:left'>fra sommerdag 1 hos den</td>\n",
              "            </tr>\n",
              "<tr>\n",
              "                <td>\n",
              "                    <a href='http://www.nb.no/items/URN:NBN:no-nb_digibok_2012111607025?searchText=arbeid' target='_blank' style='text-decoration:none'>Veodalen, Henriksen, Vera, 2001</a>\n",
              "                </td>\n",
              "                <td>kyr . Og med hardt</td>\n",
              "                <td>arbeid</td>\n",
              "                <td style='text-align:left'>utvidet Knud den dyrkede jorden</td>\n",
              "            </tr>\n",
              "<tr>\n",
              "                <td>\n",
              "                    <a href='http://www.nb.no/items/URN:NBN:no-nb_digibok_2014050706037?searchText=arbeid' target='_blank' style='text-decoration:none'>Redningsmenn og lykkejegere, Andersen, Roy, 2011</a>\n",
              "                </td>\n",
              "                <td>svært lydige . - Vårt</td>\n",
              "                <td>arbeid</td>\n",
              "                <td style='text-align:left'>er å gjete rein .</td>\n",
              "            </tr>\n",
              "<tr>\n",
              "                <td>\n",
              "                    <a href='http://www.nb.no/items/URN:NBN:no-nb_digibok_2014050706037?searchText=arbeid' target='_blank' style='text-decoration:none'>Redningsmenn og lykkejegere, Andersen, Roy, 2011</a>\n",
              "                </td>\n",
              "                <td>var det et drygt stykke</td>\n",
              "                <td>arbeid</td>\n",
              "                <td style='text-align:left'>. Alt måtte bæres på</td>\n",
              "            </tr>\n",
              "<tr>\n",
              "                <td>\n",
              "                    <a href='http://www.nb.no/items/URN:NBN:no-nb_digibok_2014050706037?searchText=arbeid' target='_blank' style='text-decoration:none'>Redningsmenn og lykkejegere, Andersen, Roy, 2011</a>\n",
              "                </td>\n",
              "                <td>detaljer og videre utføre annet</td>\n",
              "                <td>arbeid</td>\n",
              "                <td style='text-align:left'>som amerikanske myndigheter måtte ønske</td>\n",
              "            </tr>\n",
              "<tr>\n",
              "                <td>\n",
              "                    <a href='http://www.nb.no/items/URN:NBN:no-nb_digibok_2014050706037?searchText=arbeid' target='_blank' style='text-decoration:none'>Redningsmenn og lykkejegere, Andersen, Roy, 2011</a>\n",
              "                </td>\n",
              "                <td>hundre kvener for å få</td>\n",
              "                <td>arbeid</td>\n",
              "                <td style='text-align:left'>der , deriblant Fredrik Kristian</td>\n",
              "            </tr>\n",
              "<tr>\n",
              "                <td>\n",
              "                    <a href='http://www.nb.no/items/URN:NBN:no-nb_digibok_2014050706037?searchText=arbeid' target='_blank' style='text-decoration:none'>Redningsmenn og lykkejegere, Andersen, Roy, 2011</a>\n",
              "                </td>\n",
              "                <td>å holde sine ansatte i</td>\n",
              "                <td>arbeid</td>\n",
              "                <td style='text-align:left'>, men også sørge for</td>\n",
              "            </tr>\n",
              "<tr>\n",
              "                <td>\n",
              "                    <a href='http://www.nb.no/items/URN:NBN:no-nb_digibok_2015082548041?searchText=arbeid' target='_blank' style='text-decoration:none'>Fra villreinjakt til reindrift, , 2005</a>\n",
              "                </td>\n",
              "                <td>en nærmere presentasjon av deres</td>\n",
              "                <td>arbeid</td>\n",
              "                <td style='text-align:left'>, men skal først kort</td>\n",
              "            </tr>\n",
              "<tr>\n",
              "                <td>\n",
              "                    <a href='http://www.nb.no/items/URN:NBN:no-nb_digibok_2015082548041?searchText=arbeid' target='_blank' style='text-decoration:none'>Fra villreinjakt til reindrift, , 2005</a>\n",
              "                </td>\n",
              "                <td>har vært utgangspunktet for flere</td>\n",
              "                <td>arbeid</td>\n",
              "                <td style='text-align:left'>som har diskutert endringsprosesser og</td>\n",
              "            </tr>\n",
              "<tr>\n",
              "                <td>\n",
              "                    <a href='http://www.nb.no/items/URN:NBN:no-nb_digibok_2015082548041?searchText=arbeid' target='_blank' style='text-decoration:none'>Fra villreinjakt til reindrift, , 2005</a>\n",
              "                </td>\n",
              "                <td>gjelder reindriftas oppkomst . Vorrens</td>\n",
              "                <td>arbeid</td>\n",
              "                <td style='text-align:left'>( 1978 ; 1980 ;</td>\n",
              "            </tr>\n",
              "<tr>\n",
              "                <td>\n",
              "                    <a href='http://www.nb.no/items/URN:NBN:no-nb_digibok_2015082548041?searchText=arbeid' target='_blank' style='text-decoration:none'>Fra villreinjakt til reindrift, , 2005</a>\n",
              "                </td>\n",
              "                <td>4 Andre sentrale</td>\n",
              "                <td>arbeid</td>\n",
              "                <td style='text-align:left'>som diskuterer oppkomst og spredning</td>\n",
              "            </tr>\n",
              "<tr>\n",
              "                <td>\n",
              "                    <a href='http://www.nb.no/items/URN:NBN:no-nb_digibok_2015082548041?searchText=arbeid' target='_blank' style='text-decoration:none'>Fra villreinjakt til reindrift, , 2005</a>\n",
              "                </td>\n",
              "                <td>det som er mitt ordinære</td>\n",
              "                <td>arbeid</td>\n",
              "                <td style='text-align:left'>i en travel og spennende</td>\n",
              "            </tr>\n",
              "<tr>\n",
              "                <td>\n",
              "                    <a href='http://www.nb.no/items/URN:NBN:no-nb_digibok_2013120906074?searchText=arbeid' target='_blank' style='text-decoration:none'>Sjøsamene ved Varangerfjorden, , 2005</a>\n",
              "                </td>\n",
              "                <td>først og fremst var kvinnenes</td>\n",
              "                <td>arbeid</td>\n",
              "                <td style='text-align:left'>, deltok også menn i</td>\n",
              "            </tr>\n",
              "<tr>\n",
              "                <td>\n",
              "                    <a href='http://www.nb.no/items/URN:NBN:no-nb_digibok_2013120906074?searchText=arbeid' target='_blank' style='text-decoration:none'>Sjøsamene ved Varangerfjorden, , 2005</a>\n",
              "                </td>\n",
              "                <td>miljø : hjemme , på</td>\n",
              "                <td>arbeid</td>\n",
              "                <td style='text-align:left'>, i fritid osv.</td>\n",
              "            </tr>\n",
              "<tr>\n",
              "                <td>\n",
              "                    <a href='http://www.nb.no/items/URN:NBN:no-nb_digibok_2007072300047?searchText=arbeid' target='_blank' style='text-decoration:none'>Samekulturen, Vorren, Ørnulv, 1976</a>\n",
              "                </td>\n",
              "                <td>på disse felt er banebrytende</td>\n",
              "                <td>arbeid</td>\n",
              "                <td style='text-align:left'>som vil bære frukter langt</td>\n",
              "            </tr>\n",
              "<tr>\n",
              "                <td>\n",
              "                    <a href='http://www.nb.no/items/URN:NBN:no-nb_digibok_2007072300047?searchText=arbeid' target='_blank' style='text-decoration:none'>Samekulturen, Vorren, Ørnulv, 1976</a>\n",
              "                </td>\n",
              "                <td>har ytt bidrag til hverandres</td>\n",
              "                <td>arbeid</td>\n",
              "                <td style='text-align:left'>, og i 1899 ga</td>\n",
              "            </tr>\n",
              "<tr>\n",
              "                <td>\n",
              "                    <a href='http://www.nb.no/items/URN:NBN:no-nb_digibok_2007072300047?searchText=arbeid' target='_blank' style='text-decoration:none'>Samekulturen, Vorren, Ørnulv, 1976</a>\n",
              "                </td>\n",
              "                <td>tillegg til det store planmessige</td>\n",
              "                <td>arbeid</td>\n",
              "                <td style='text-align:left'>med den alminnelige kulturbeskrivelse som</td>\n",
              "            </tr>\n",
              "<tr>\n",
              "                <td>\n",
              "                    <a href='http://www.nb.no/items/URN:NBN:no-nb_digibok_2007072300047?searchText=arbeid' target='_blank' style='text-decoration:none'>Samekulturen, Vorren, Ørnulv, 1976</a>\n",
              "                </td>\n",
              "                <td>som krevde mest tid og</td>\n",
              "                <td>arbeid</td>\n",
              "                <td style='text-align:left'>for de fleste av flyttsamene</td>\n",
              "            </tr>\n",
              "<tr>\n",
              "                <td>\n",
              "                    <a href='http://www.nb.no/items/URN:NBN:no-nb_digibok_2007072300047?searchText=arbeid' target='_blank' style='text-decoration:none'>Samekulturen, Vorren, Ørnulv, 1976</a>\n",
              "                </td>\n",
              "                <td>. Melkingen er et veldig</td>\n",
              "                <td>arbeid</td>\n",
              "                <td style='text-align:left'>som krever meget folk .</td>\n",
              "            </tr>\n",
              "<tr>\n",
              "                <td>\n",
              "                    <a href='http://www.nb.no/items/URN:NBN:no-nb_digibok_2009072901035?searchText=arbeid' target='_blank' style='text-decoration:none'>Bergverksbyens omland, Daugstad, Karoline, 1999</a>\n",
              "                </td>\n",
              "                <td>kunnskapsutveksling og utforming av empirisk</td>\n",
              "                <td>arbeid</td>\n",
              "                <td style='text-align:left'>. Prøsch-Danielsen har gitt et</td>\n",
              "            </tr>\n",
              "<tr>\n",
              "                <td>\n",
              "                    <a href='http://www.nb.no/items/URN:NBN:no-nb_digibok_2009072901035?searchText=arbeid' target='_blank' style='text-decoration:none'>Bergverksbyens omland, Daugstad, Karoline, 1999</a>\n",
              "                </td>\n",
              "                <td>6 i rapporten presenterer hennes</td>\n",
              "                <td>arbeid</td>\n",
              "                <td style='text-align:left'>.</td>\n",
              "            </tr>\n",
              "<tr>\n",
              "                <td>\n",
              "                    <a href='http://www.nb.no/items/URN:NBN:no-nb_digibok_2009072901035?searchText=arbeid' target='_blank' style='text-decoration:none'>Bergverksbyens omland, Daugstad, Karoline, 1999</a>\n",
              "                </td>\n",
              "                <td>Som del av forskningsprosjektets innledende</td>\n",
              "                <td>arbeid</td>\n",
              "                <td style='text-align:left'>med å sammenstille status for</td>\n",
              "            </tr>\n",
              "<tr>\n",
              "                <td>\n",
              "                    <a href='http://www.nb.no/items/URN:NBN:no-nb_digibok_2009072901035?searchText=arbeid' target='_blank' style='text-decoration:none'>Bergverksbyens omland, Daugstad, Karoline, 1999</a>\n",
              "                </td>\n",
              "                <td>Elden takkes for godt gjennomført</td>\n",
              "                <td>arbeid</td>\n",
              "                <td style='text-align:left'>.</td>\n",
              "            </tr>\n",
              "<tr>\n",
              "                <td>\n",
              "                    <a href='http://www.nb.no/items/URN:NBN:no-nb_digibok_2009072901035?searchText=arbeid' target='_blank' style='text-decoration:none'>Bergverksbyens omland, Daugstad, Karoline, 1999</a>\n",
              "                </td>\n",
              "                <td>samarbeidsformer og angrepsmåter . Tverrfaglig</td>\n",
              "                <td>arbeid</td>\n",
              "                <td style='text-align:left'>både innen forskning og forvaltning</td>\n",
              "            </tr>\n",
              "</table>"
            ],
            "text/plain": [
              "<IPython.core.display.HTML object>"
            ]
          },
          "metadata": {
            "tags": []
          },
          "execution_count": 9
        }
      ]
    },
    {
      "cell_type": "code",
      "metadata": {
        "id": "CAjDAQXKqxt0",
        "colab_type": "code",
        "colab": {}
      },
      "source": [
        ""
      ],
      "execution_count": 0,
      "outputs": []
    }
  ]
}