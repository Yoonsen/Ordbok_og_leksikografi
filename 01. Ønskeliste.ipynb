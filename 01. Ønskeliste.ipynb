{
 "cells": [
  {
   "cell_type": "code",
   "execution_count": 1,
   "metadata": {},
   "outputs": [
    {
     "data": {
      "text/html": [
       "<style>@import url(\n",
       "http://fonts.googleapis.com/css?family=Lato|Philosopher|Montserrat|Source+Code+Pro|Istok+Web|Philosopher|Assistant:200,400,700);\n",
       "\n",
       "/*\n",
       "#notebook-container {\n",
       "\t-webkit-box-shadow: none;\n",
       "\tbox-shadow: none;\n",
       "}\n",
       "*/\n",
       "\n",
       "h1, h2, h3, h4, h5, h6 {\n",
       "\tfont-family: 'Montserrat', sans-serif;\n",
       "\tline-height: 2em;\n",
       "    color: #004f99;\n",
       "    font-weight: 600;\n",
       "}\n",
       "\n",
       "h1 { font-size: 4.5em; }\n",
       "h2 { font-size: 4em; }\n",
       "h3 { font-size: 3.5em; }\n",
       "h4 { font-size: 3em; }\n",
       "h5 { font-size: 2.5em; color:DarkSlateGray; }\n",
       "h6 { font-size: 2em; }\n",
       "\n",
       "p {\n",
       "\tfont-family: 'Assistant', sans-serif; \n",
       "\tfont-size: 1.2em;\n",
       "\tline-height: 1.4em;\n",
       "\tcolor: black;\n",
       "}\n",
       "p code {\n",
       "\tfont-size:0.9em;\n",
       "}\n",
       "div.input_area {\n",
       "\tborder:none !important;\n",
       "\tborder-left:1px solid #ff851b !important\n",
       "}\n",
       "\n",
       "span.cm-keyword {\n",
       "\tcolor:#339966 !important;\n",
       "}\n",
       "span.nn {  /*span.cm-variable, span.cm-property*/\n",
       "\tcolor: #3399ff !important;\n",
       "}\n",
       "div.CodeMirror {\n",
       "\tfont-family: 'Inconsolata', monospace;\n",
       "\tfont-size: 1.1em;\n",
       "\t\n",
       "}\n",
       "</style>"
      ],
      "text/plain": [
       "<IPython.core.display.HTML object>"
      ]
     },
     "execution_count": 1,
     "metadata": {},
     "output_type": "execute_result"
    }
   ],
   "source": [
    "from dhlab.module_update import css\n",
    "css()"
   ]
  },
  {
   "cell_type": "markdown",
   "metadata": {},
   "source": [
    "## Ønskeliste fra språkrådet\n",
    "\n",
    "* Vi ønsker å kunne søke på ordformer og fraser i store tekstbaser og få opp antallet søketreff og konkordanser med treffene i kontekst.\n",
    " \n",
    " \n",
    "* Vi ønsker å kunne differensiere mellom store og små bokstaver i søkeordet/søkeordene.\n",
    " \n",
    " \n",
    "* Vi ønsker å kunne avgrense søk på\n",
    "    * publiseringsår (f.eks. alt nyere enn 1960, alt nyere enn 1990)\n",
    "    *  målform (bokmål/nynorsk)\n",
    "    *   sjanger/teksttype (f.eks. aviser, tidsskrifter, bøker)\n",
    "    *  fagområde, f.eks. definert med Dewey-kode.\n",
    " \n",
    " \n",
    "* Innenfor de avgrensningene vi definerer, ønsker vi å søke på så stort materiale som mulig, ikke f.eks. et tilfeldig utvalg av kilder.\n",
    " \n",
    " \n",
    "* Vi ønsker å søke på ordformer og fraser over tid, slik man kan med Ngram-tjenesten. Man må kunne velge absolutt eller relativ frekvens.\n",
    " "
   ]
  },
  {
   "cell_type": "markdown",
   "metadata": {},
   "source": [
    "# Ønskeliste fra revisjonsprosjektet\n",
    "\n",
    "1. Vi er allerede vant til å bruke Corpuscle-lex, hvor vi kan søke samtidig i LBK, nynorskkorpuset, aviskorpuset etc. Derfor er det typisk de minst frekvente ordene vi går til Nasjonalbiblioteket for å se på (fordi dere har rikere datagrunnlag for sjeldne ord), herunder også nynorsk språkbruk: hva er faktisk i bruk?\n",
    "\n",
    "Eksempel 1: «bras»\n",
    "\n",
    "Eksempel 2: «avfardag»\n",
    "\n",
    "Eksempel 3 (vanskelig søk for oss): «en borer»: mulig å begrense på domene?\n",
    "\n",
    "\n",
    "\n",
    "1. Vi ønsker alltid å kunne søke på både enkeltord («crepe»), en frase («crêpe de chine») eller et knippe stavemåter/bøyningsformer («crepe, crèpe, crêpe, krepp»).\n",
    "\n",
    "\n",
    "\n",
    "1. For et søkeord/-frase/sett av stavemåter ønsker vi å kunne få opp:\n",
    "\n",
    "    * antallet søketreff (absolutt frekvens - med mindre du vil forklare oss hvorfor vi kanskje noen ganger ikke ønsker absolutte tall)\n",
    "\n",
    "    * konkordansene (vi er vant fra Corpuscle til å kunne sjekke raskt hva dette er slags treff, f.eks. for et raskt overblikk om vi nå virkelig ser på de ordbetydningene vi ventet, om treffene reflekterer flertydigheter vi ikke hadde tenkt over etc)\n",
    "\n",
    "    * distribusjonen av treffene over tid (er bøyningsformen/ordet/frasen jevnt i bruk?). Siden våre ordbøker skal reflektere et moderne ordtilfang ønsker vi å kunne avgrense til treff fra (for eksempel) 1970 og fremover.\n",
    "\n",
    "    * distribusjonen på tvers av domener/teksttyper (er ordet frasen/frasen allmennspråklig eller tilhører den bestemte domener/bestemte teksttyper?).\n",
    "\n",
    "    * forekomst/frekvens etter målform (trendlinje og total frekvens bokmål vs nynorsk)\n",
    "\n",
    "\n",
    "\n",
    "\n",
    "* HTML-grensesnitt. Vi ønsker et html-grensesnitt på de tingene vi lander på å bruke av funksjoner.\n",
    "\n",
    "* Deweykategoriene: Hvordan finner vi rent praktisk frem i deweykategoriene? Går det an å søke på et ord («borer», eller «crêpe») og få ut en frekvensrangert tabell over hvilke domener dette ordet ble funnet i? Er det mulig å negere et domene? F.eks.: jeg vil IKKE se ordet \"crèpe\" i pannekake/matlagingsbetdningen? (men kun se nærmere på ordet mht tekstil, papirtype og mulige andre domener vi ikke har tenkt på)?\n",
    "\n",
    "* Trendlinjer: For trendlinjer ønsker vi alltid å kunne få opp hva som er treffene bak – mulig? Gjerne én trendlinje for avis, en annen for bok og ev. andre teksttyper; en ny trendlinje som viser ordets frekvensutvikling i nynorsk vs i bokmål.\n",
    "\n",
    "* Kollokasjoner: de rangerte tallene (tabellene) bak ordskyer er mer praktiske for oss enn selve den grafiske ordskyen. For at vi kan se på tallene og den rene rangeringen, og plukke opp fraser og flerordsuttrykk som bør inn i ordbøkene, eller som bør tas hensyn til i utvalget av brukseksempler.\n",
    "\n",
    "* Målform: For ethvert søk må det være mulig å søke innenfor en enkelt målform, men helst også mulig å kunne studere forskjeller i de to målformene.\n"
   ]
  },
  {
   "cell_type": "code",
   "execution_count": null,
   "metadata": {},
   "outputs": [],
   "source": []
  }
 ],
 "metadata": {
  "kernelspec": {
   "display_name": "Python 3",
   "language": "python",
   "name": "python3"
  },
  "language_info": {
   "codemirror_mode": {
    "name": "ipython",
    "version": 3
   },
   "file_extension": ".py",
   "mimetype": "text/x-python",
   "name": "python",
   "nbconvert_exporter": "python",
   "pygments_lexer": "ipython3",
   "version": "3.7.3"
  }
 },
 "nbformat": 4,
 "nbformat_minor": 2
}
