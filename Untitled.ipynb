{
 "cells": [
  {
   "cell_type": "code",
   "execution_count": 30,
   "metadata": {},
   "outputs": [],
   "source": [
    "import dhlab.nbtext as nb\n",
    "import dhlab.module_update as mu\n",
    "#mu.update('collocations', overwrite=True)\n",
    "from collocations import urn_coll, collocation\n",
    "from numpy import log"
   ]
  },
  {
   "cell_type": "code",
   "execution_count": 2,
   "metadata": {},
   "outputs": [],
   "source": [
    "corpus = nb.book_corpus(title=\"harry potter%\")"
   ]
  },
  {
   "cell_type": "code",
   "execution_count": 3,
   "metadata": {},
   "outputs": [
    {
     "data": {
      "text/html": [
       "<div>\n",
       "<style scoped>\n",
       "    .dataframe tbody tr th:only-of-type {\n",
       "        vertical-align: middle;\n",
       "    }\n",
       "\n",
       "    .dataframe tbody tr th {\n",
       "        vertical-align: top;\n",
       "    }\n",
       "\n",
       "    .dataframe thead th {\n",
       "        text-align: right;\n",
       "    }\n",
       "</style>\n",
       "<table border=\"1\" class=\"dataframe\">\n",
       "  <thead>\n",
       "    <tr style=\"text-align: right;\">\n",
       "      <th></th>\n",
       "      <th>urn</th>\n",
       "      <th>author</th>\n",
       "      <th>title</th>\n",
       "      <th>year</th>\n",
       "    </tr>\n",
       "  </thead>\n",
       "  <tbody>\n",
       "    <tr>\n",
       "      <th>0</th>\n",
       "      <td>2014080508099</td>\n",
       "      <td>Rowling, J.K.</td>\n",
       "      <td>Harry Potter</td>\n",
       "      <td>2011</td>\n",
       "    </tr>\n",
       "    <tr>\n",
       "      <th>1</th>\n",
       "      <td>2016082408047</td>\n",
       "      <td>Rowling, J.K.</td>\n",
       "      <td>Harry Potter og fangen fra Azkaban</td>\n",
       "      <td>2005</td>\n",
       "    </tr>\n",
       "    <tr>\n",
       "      <th>2</th>\n",
       "      <td>2013061108157</td>\n",
       "      <td>Rowling, J.K.</td>\n",
       "      <td>Harry Potter 1-4</td>\n",
       "      <td>2001</td>\n",
       "    </tr>\n",
       "    <tr>\n",
       "      <th>3</th>\n",
       "      <td>2014061838001</td>\n",
       "      <td>Rowling, J.K.</td>\n",
       "      <td>Harry Potter</td>\n",
       "      <td>2011</td>\n",
       "    </tr>\n",
       "    <tr>\n",
       "      <th>4</th>\n",
       "      <td>2014080508046</td>\n",
       "      <td>Rowling, J.K.</td>\n",
       "      <td>Harry Potter 1-4</td>\n",
       "      <td>2001</td>\n",
       "    </tr>\n",
       "    <tr>\n",
       "      <th>5</th>\n",
       "      <td>2008102200061</td>\n",
       "      <td>Rowling, J.K.</td>\n",
       "      <td>Harry Potter og mysteriekammeret</td>\n",
       "      <td>2000</td>\n",
       "    </tr>\n",
       "    <tr>\n",
       "      <th>6</th>\n",
       "      <td>2013062608004</td>\n",
       "      <td>Rowling, J.K.</td>\n",
       "      <td>Harry Potter og halvblodsprinsen</td>\n",
       "      <td>2008</td>\n",
       "    </tr>\n",
       "    <tr>\n",
       "      <th>7</th>\n",
       "      <td>2011062705065</td>\n",
       "      <td>Rowling, J.K.</td>\n",
       "      <td>Harry Potter og mysteriekammeret</td>\n",
       "      <td>2003</td>\n",
       "    </tr>\n",
       "    <tr>\n",
       "      <th>8</th>\n",
       "      <td>2008090504071</td>\n",
       "      <td>Rowling, J.K.</td>\n",
       "      <td>Harry Potter og de vises stein</td>\n",
       "      <td>1999</td>\n",
       "    </tr>\n",
       "    <tr>\n",
       "      <th>9</th>\n",
       "      <td>2014073106069</td>\n",
       "      <td></td>\n",
       "      <td>Harry Potter og ildbegeret</td>\n",
       "      <td>2005</td>\n",
       "    </tr>\n",
       "    <tr>\n",
       "      <th>10</th>\n",
       "      <td>2014091938003</td>\n",
       "      <td>Rowling, J.K.</td>\n",
       "      <td>Harry Potter</td>\n",
       "      <td>2011</td>\n",
       "    </tr>\n",
       "    <tr>\n",
       "      <th>11</th>\n",
       "      <td>2014030406051</td>\n",
       "      <td>Rowling, J.K.</td>\n",
       "      <td>Harry Potter og mysteriekammeret</td>\n",
       "      <td>2011</td>\n",
       "    </tr>\n",
       "    <tr>\n",
       "      <th>12</th>\n",
       "      <td>2012111406120</td>\n",
       "      <td>Rowling, J.K.</td>\n",
       "      <td>Harry Potter og Føniksordenen</td>\n",
       "      <td>2011</td>\n",
       "    </tr>\n",
       "    <tr>\n",
       "      <th>13</th>\n",
       "      <td>2013061905063</td>\n",
       "      <td>Rowling, J.K.</td>\n",
       "      <td>Harry Potter og dødstalismanene</td>\n",
       "      <td>2007</td>\n",
       "    </tr>\n",
       "    <tr>\n",
       "      <th>14</th>\n",
       "      <td>2013072208063</td>\n",
       "      <td>Rowling, J.K.</td>\n",
       "      <td>Harry Potter og fangen fra Azkaban</td>\n",
       "      <td>2011</td>\n",
       "    </tr>\n",
       "    <tr>\n",
       "      <th>15</th>\n",
       "      <td>2013120238034</td>\n",
       "      <td>Rowling, J.K.</td>\n",
       "      <td>Harry Potter og halvblodsprinsen</td>\n",
       "      <td>2005</td>\n",
       "    </tr>\n",
       "    <tr>\n",
       "      <th>16</th>\n",
       "      <td>2014022806023</td>\n",
       "      <td>Rowling, J.K.</td>\n",
       "      <td>Harry Potter og de vises stein</td>\n",
       "      <td>2011</td>\n",
       "    </tr>\n",
       "    <tr>\n",
       "      <th>17</th>\n",
       "      <td>2008112800001</td>\n",
       "      <td>Rowling, J.K.</td>\n",
       "      <td>Harry Potter og ildbegeret</td>\n",
       "      <td>2001</td>\n",
       "    </tr>\n",
       "    <tr>\n",
       "      <th>18</th>\n",
       "      <td>2009012804020</td>\n",
       "      <td>Rowling, J.K.</td>\n",
       "      <td>Harry Potter og mysteriekammeret</td>\n",
       "      <td>2002</td>\n",
       "    </tr>\n",
       "    <tr>\n",
       "      <th>19</th>\n",
       "      <td>2013082708159</td>\n",
       "      <td>Rowling, J.K.</td>\n",
       "      <td>Harry Potter og de vises stein</td>\n",
       "      <td>2009</td>\n",
       "    </tr>\n",
       "  </tbody>\n",
       "</table>\n",
       "</div>"
      ],
      "text/plain": [
       "              urn         author                               title  year\n",
       "0   2014080508099  Rowling, J.K.                        Harry Potter  2011\n",
       "1   2016082408047  Rowling, J.K.  Harry Potter og fangen fra Azkaban  2005\n",
       "2   2013061108157  Rowling, J.K.                    Harry Potter 1-4  2001\n",
       "3   2014061838001  Rowling, J.K.                        Harry Potter  2011\n",
       "4   2014080508046  Rowling, J.K.                    Harry Potter 1-4  2001\n",
       "5   2008102200061  Rowling, J.K.    Harry Potter og mysteriekammeret  2000\n",
       "6   2013062608004  Rowling, J.K.    Harry Potter og halvblodsprinsen  2008\n",
       "7   2011062705065  Rowling, J.K.    Harry Potter og mysteriekammeret  2003\n",
       "8   2008090504071  Rowling, J.K.      Harry Potter og de vises stein  1999\n",
       "9   2014073106069                         Harry Potter og ildbegeret  2005\n",
       "10  2014091938003  Rowling, J.K.                        Harry Potter  2011\n",
       "11  2014030406051  Rowling, J.K.    Harry Potter og mysteriekammeret  2011\n",
       "12  2012111406120  Rowling, J.K.       Harry Potter og Føniksordenen  2011\n",
       "13  2013061905063  Rowling, J.K.     Harry Potter og dødstalismanene  2007\n",
       "14  2013072208063  Rowling, J.K.  Harry Potter og fangen fra Azkaban  2011\n",
       "15  2013120238034  Rowling, J.K.    Harry Potter og halvblodsprinsen  2005\n",
       "16  2014022806023  Rowling, J.K.      Harry Potter og de vises stein  2011\n",
       "17  2008112800001  Rowling, J.K.          Harry Potter og ildbegeret  2001\n",
       "18  2009012804020  Rowling, J.K.    Harry Potter og mysteriekammeret  2002\n",
       "19  2013082708159  Rowling, J.K.      Harry Potter og de vises stein  2009"
      ]
     },
     "execution_count": 3,
     "metadata": {},
     "output_type": "execute_result"
    }
   ],
   "source": [
    "corpus"
   ]
  },
  {
   "cell_type": "code",
   "execution_count": 19,
   "metadata": {},
   "outputs": [
    {
     "data": {
      "text/plain": [
       "['2014080508099',\n",
       " '2016082408047',\n",
       " '2013061108157',\n",
       " '2014061838001',\n",
       " '2014080508046',\n",
       " '2008102200061',\n",
       " '2013062608004',\n",
       " '2011062705065',\n",
       " '2008090504071',\n",
       " '2014073106069',\n",
       " '2014091938003',\n",
       " '2014030406051',\n",
       " '2012111406120',\n",
       " '2013061905063',\n",
       " '2013072208063',\n",
       " '2013120238034',\n",
       " '2014022806023',\n",
       " '2008112800001',\n",
       " '2009012804020',\n",
       " '2013082708159']"
      ]
     },
     "execution_count": 19,
     "metadata": {},
     "output_type": "execute_result"
    }
   ],
   "source": [
    "nb.pure_urn(corpus)"
   ]
  },
  {
   "cell_type": "code",
   "execution_count": 271,
   "metadata": {},
   "outputs": [],
   "source": [
    "def dist(obs_mean, expected, freq):\n",
    "    factor = ((freq-1)/(freq))*obs_mean\n",
    "    ratio = obs_mean/(obs_mean - factor)\n",
    "    return obs_mean + (expected - obs_mean)/ratio"
   ]
  },
  {
   "cell_type": "code",
   "execution_count": 287,
   "metadata": {},
   "outputs": [],
   "source": [
    "colls = dict()\n",
    "for character in \"Harry Hermine Humlesnurr Ronny Malfang Slur Gygrid\".split():\n",
    "    colls[character] = urn_coll(character, nb.pure_urn(corpus), before=0, after=10)"
   ]
  },
  {
   "cell_type": "code",
   "execution_count": 289,
   "metadata": {},
   "outputs": [],
   "source": [
    "frames = dict()\n",
    "for c in colls:\n",
    "    frames[c] = nb.frame({'dist':colls[c][1], 'freq':colls[c][0]}).transpose()"
   ]
  },
  {
   "cell_type": "code",
   "execution_count": 291,
   "metadata": {},
   "outputs": [],
   "source": [
    "for c in frames:\n",
    "    frames[c]['score'] = dist(frames[c].dist, 5.5, frames[c].freq)"
   ]
  },
  {
   "cell_type": "code",
   "execution_count": 301,
   "metadata": {},
   "outputs": [],
   "source": [
    "inspect = lambda harry, w: harry.loc[w]"
   ]
  },
  {
   "cell_type": "code",
   "execution_count": 314,
   "metadata": {},
   "outputs": [
    {
     "name": "stdout",
     "output_type": "stream",
     "text": [
      "Harry 4.817242112784796\n",
      "Hermine 4.293839595275936\n",
      "Humlesnurr 4.454127338628608\n",
      "Ronny 4.4836871469082\n",
      "Malfang 4.987145731343453\n",
      "Slur 4.9554733012878085\n",
      "Gygrid 4.751209768948576\n"
     ]
    }
   ],
   "source": [
    "for c in frames:\n",
    "    print(c, inspect(frames[c]['score'], '.'))"
   ]
  },
  {
   "cell_type": "code",
   "execution_count": 315,
   "metadata": {},
   "outputs": [
    {
     "name": "stdout",
     "output_type": "stream",
     "text": [
      "Harry 5.1199713459743\n",
      "Hermine 5.217811002361413\n",
      "Humlesnurr 5.0002832234720245\n",
      "Ronny 5.16845394764243\n",
      "Malfang 4.749445433099134\n",
      "Slur 5.095678567808362\n",
      "Gygrid 4.67481906156315\n"
     ]
    }
   ],
   "source": [
    "for c in frames:\n",
    "    print(c, inspect(frames[c]['score'], ','))"
   ]
  },
  {
   "cell_type": "code",
   "execution_count": 320,
   "metadata": {},
   "outputs": [],
   "source": [
    "def check(word):\n",
    "    return {c:inspect(frames[c]['score'], word) for c in frames if word in frames[c].index}"
   ]
  },
  {
   "cell_type": "code",
   "execution_count": 321,
   "metadata": {},
   "outputs": [
    {
     "data": {
      "text/plain": [
       "{'Hermine': 1.9,\n",
       " 'Humlesnurr': 3.625,\n",
       " 'Ronny': 1.5625,\n",
       " 'Malfang': 3.863095238095238,\n",
       " 'Slur': 3.25}"
      ]
     },
     "execution_count": 321,
     "metadata": {},
     "output_type": "execute_result"
    }
   ],
   "source": [
    "check ('måpte')"
   ]
  },
  {
   "cell_type": "code",
   "execution_count": 323,
   "metadata": {},
   "outputs": [
    {
     "data": {
      "text/plain": [
       "{'Gygrid': 5.5}"
      ]
     },
     "execution_count": 323,
     "metadata": {},
     "output_type": "execute_result"
    }
   ],
   "source": [
    "check ('lengsel')"
   ]
  },
  {
   "cell_type": "code",
   "execution_count": 324,
   "metadata": {},
   "outputs": [
    {
     "data": {
      "text/plain": [
       "{'Harry': 4.817242112784796,\n",
       " 'Hermine': 4.293839595275936,\n",
       " 'Humlesnurr': 4.454127338628608,\n",
       " 'Ronny': 4.4836871469082,\n",
       " 'Malfang': 4.987145731343453,\n",
       " 'Slur': 4.9554733012878085,\n",
       " 'Gygrid': 4.751209768948576}"
      ]
     },
     "execution_count": 324,
     "metadata": {},
     "output_type": "execute_result"
    }
   ],
   "source": [
    "check ('.')"
   ]
  },
  {
   "cell_type": "code",
   "execution_count": 325,
   "metadata": {},
   "outputs": [
    {
     "data": {
      "text/plain": [
       "{'Harry': 5.125,\n",
       " 'Hermine': 5.8589743589743595,\n",
       " 'Humlesnurr': 5.74,\n",
       " 'Ronny': 2.35,\n",
       " 'Malfang': 6.554166666666666,\n",
       " 'Slur': 3.0974025974025974,\n",
       " 'Gygrid': 2.878846153846154}"
      ]
     },
     "execution_count": 325,
     "metadata": {},
     "output_type": "execute_result"
    }
   ],
   "source": [
    "check ('slo')"
   ]
  },
  {
   "cell_type": "code",
   "execution_count": 327,
   "metadata": {},
   "outputs": [
    {
     "data": {
      "text/plain": [
       "{'Harry': 5.5,\n",
       " 'Humlesnurr': 4.048611111111111,\n",
       " 'Malfang': 4.888516746411484,\n",
       " 'Slur': 5.41,\n",
       " 'Gygrid': 4.664285714285714}"
      ]
     },
     "execution_count": 327,
     "metadata": {},
     "output_type": "execute_result"
    }
   ],
   "source": [
    "check ('sint')"
   ]
  },
  {
   "cell_type": "code",
   "execution_count": 332,
   "metadata": {},
   "outputs": [
    {
     "data": {
      "text/plain": [
       "{'Harry': 1.6499999999999997,\n",
       " 'Hermine': 1.45,\n",
       " 'Humlesnurr': 4.25,\n",
       " 'Ronny': 8.125,\n",
       " 'Slur': 5.5,\n",
       " 'Gygrid': 2.125}"
      ]
     },
     "execution_count": 332,
     "metadata": {},
     "output_type": "execute_result"
    }
   ],
   "source": [
    "check('bistert')"
   ]
  },
  {
   "cell_type": "code",
   "execution_count": 343,
   "metadata": {},
   "outputs": [],
   "source": [
    "show = lambda harry, cutoff: harry[harry.freq > cutoff].sort_values(by='score')"
   ]
  },
  {
   "cell_type": "code",
   "execution_count": 344,
   "metadata": {},
   "outputs": [
    {
     "data": {
      "text/html": [
       "<div>\n",
       "<style scoped>\n",
       "    .dataframe tbody tr th:only-of-type {\n",
       "        vertical-align: middle;\n",
       "    }\n",
       "\n",
       "    .dataframe tbody tr th {\n",
       "        vertical-align: top;\n",
       "    }\n",
       "\n",
       "    .dataframe thead th {\n",
       "        text-align: right;\n",
       "    }\n",
       "</style>\n",
       "<table border=\"1\" class=\"dataframe\">\n",
       "  <thead>\n",
       "    <tr style=\"text-align: right;\">\n",
       "      <th></th>\n",
       "      <th>dist</th>\n",
       "      <th>freq</th>\n",
       "      <th>score</th>\n",
       "    </tr>\n",
       "  </thead>\n",
       "  <tbody>\n",
       "    <tr>\n",
       "      <th>ansiktsuttrykkene</th>\n",
       "      <td>8.071429</td>\n",
       "      <td>8.0</td>\n",
       "      <td>7.750000</td>\n",
       "    </tr>\n",
       "    <tr>\n",
       "      <th>dukke</th>\n",
       "      <td>8.125000</td>\n",
       "      <td>7.0</td>\n",
       "      <td>7.750000</td>\n",
       "    </tr>\n",
       "    <tr>\n",
       "      <th>TAPTE</th>\n",
       "      <td>8.250000</td>\n",
       "      <td>6.0</td>\n",
       "      <td>7.791667</td>\n",
       "    </tr>\n",
       "    <tr>\n",
       "      <th>2</th>\n",
       "      <td>8.187500</td>\n",
       "      <td>7.0</td>\n",
       "      <td>7.803571</td>\n",
       "    </tr>\n",
       "    <tr>\n",
       "      <th>gammel</th>\n",
       "      <td>8.100000</td>\n",
       "      <td>9.0</td>\n",
       "      <td>7.811111</td>\n",
       "    </tr>\n",
       "    <tr>\n",
       "      <th>$</th>\n",
       "      <td>8.187500</td>\n",
       "      <td>8.0</td>\n",
       "      <td>7.851562</td>\n",
       "    </tr>\n",
       "    <tr>\n",
       "      <th>berg</th>\n",
       "      <td>8.071429</td>\n",
       "      <td>12.0</td>\n",
       "      <td>7.857143</td>\n",
       "    </tr>\n",
       "    <tr>\n",
       "      <th>blinkende</th>\n",
       "      <td>8.333333</td>\n",
       "      <td>6.0</td>\n",
       "      <td>7.861111</td>\n",
       "    </tr>\n",
       "    <tr>\n",
       "      <th>Lykke</th>\n",
       "      <td>8.333333</td>\n",
       "      <td>6.0</td>\n",
       "      <td>7.861111</td>\n",
       "    </tr>\n",
       "    <tr>\n",
       "      <th>Laget</th>\n",
       "      <td>8.333333</td>\n",
       "      <td>6.0</td>\n",
       "      <td>7.861111</td>\n",
       "    </tr>\n",
       "    <tr>\n",
       "      <th>byksende</th>\n",
       "      <td>8.285714</td>\n",
       "      <td>7.0</td>\n",
       "      <td>7.887755</td>\n",
       "    </tr>\n",
       "    <tr>\n",
       "      <th>anledning</th>\n",
       "      <td>8.090909</td>\n",
       "      <td>13.0</td>\n",
       "      <td>7.891608</td>\n",
       "    </tr>\n",
       "    <tr>\n",
       "      <th>Nicolas</th>\n",
       "      <td>8.066667</td>\n",
       "      <td>15.0</td>\n",
       "      <td>7.895556</td>\n",
       "    </tr>\n",
       "    <tr>\n",
       "      <th>2000</th>\n",
       "      <td>8.111111</td>\n",
       "      <td>13.0</td>\n",
       "      <td>7.910256</td>\n",
       "    </tr>\n",
       "    <tr>\n",
       "      <th>advarsel</th>\n",
       "      <td>8.222222</td>\n",
       "      <td>9.0</td>\n",
       "      <td>7.919753</td>\n",
       "    </tr>\n",
       "    <tr>\n",
       "      <th>avbrutt</th>\n",
       "      <td>8.222222</td>\n",
       "      <td>9.0</td>\n",
       "      <td>7.919753</td>\n",
       "    </tr>\n",
       "    <tr>\n",
       "      <th>Tro</th>\n",
       "      <td>8.187500</td>\n",
       "      <td>11.0</td>\n",
       "      <td>7.943182</td>\n",
       "    </tr>\n",
       "    <tr>\n",
       "      <th>blunke</th>\n",
       "      <td>8.074074</td>\n",
       "      <td>21.0</td>\n",
       "      <td>7.951499</td>\n",
       "    </tr>\n",
       "    <tr>\n",
       "      <th>Gurgel</th>\n",
       "      <td>8.030702</td>\n",
       "      <td>52.0</td>\n",
       "      <td>7.982034</td>\n",
       "    </tr>\n",
       "    <tr>\n",
       "      <th>Hiet</th>\n",
       "      <td>8.285714</td>\n",
       "      <td>10.0</td>\n",
       "      <td>8.007143</td>\n",
       "    </tr>\n",
       "  </tbody>\n",
       "</table>\n",
       "</div>"
      ],
      "text/plain": [
       "                       dist  freq     score\n",
       "ansiktsuttrykkene  8.071429   8.0  7.750000\n",
       "dukke              8.125000   7.0  7.750000\n",
       "TAPTE              8.250000   6.0  7.791667\n",
       "2                  8.187500   7.0  7.803571\n",
       "gammel             8.100000   9.0  7.811111\n",
       "$                  8.187500   8.0  7.851562\n",
       "berg               8.071429  12.0  7.857143\n",
       "blinkende          8.333333   6.0  7.861111\n",
       "Lykke              8.333333   6.0  7.861111\n",
       "Laget              8.333333   6.0  7.861111\n",
       "byksende           8.285714   7.0  7.887755\n",
       "anledning          8.090909  13.0  7.891608\n",
       "Nicolas            8.066667  15.0  7.895556\n",
       "2000               8.111111  13.0  7.910256\n",
       "advarsel           8.222222   9.0  7.919753\n",
       "avbrutt            8.222222   9.0  7.919753\n",
       "Tro                8.187500  11.0  7.943182\n",
       "blunke             8.074074  21.0  7.951499\n",
       "Gurgel             8.030702  52.0  7.982034\n",
       "Hiet               8.285714  10.0  8.007143"
      ]
     },
     "execution_count": 344,
     "metadata": {},
     "output_type": "execute_result"
    }
   ],
   "source": [
    "show(frames['Harry'][frames['Harry']['dist']> 8], 5)[:20]"
   ]
  },
  {
   "cell_type": "code",
   "execution_count": 300,
   "metadata": {},
   "outputs": [
    {
     "data": {
      "text/plain": [
       "dist      6.193484\n",
       "freq     88.000000\n",
       "score     6.185603\n",
       "Name: Ronny, dtype: float64"
      ]
     },
     "execution_count": 300,
     "metadata": {},
     "output_type": "execute_result"
    }
   ],
   "source": [
    "inspect(frames['Humlesnurr'], 'Ronny')"
   ]
  }
 ],
 "metadata": {
  "kernelspec": {
   "display_name": "Python 3",
   "language": "python",
   "name": "python3"
  },
  "language_info": {
   "codemirror_mode": {
    "name": "ipython",
    "version": 3
   },
   "file_extension": ".py",
   "mimetype": "text/x-python",
   "name": "python",
   "nbconvert_exporter": "python",
   "pygments_lexer": "ipython3",
   "version": "3.7.3"
  }
 },
 "nbformat": 4,
 "nbformat_minor": 2
}
