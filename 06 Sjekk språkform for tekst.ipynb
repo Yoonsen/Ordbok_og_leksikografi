{
 "cells": [
  {
   "cell_type": "markdown",
   "metadata": {},
   "source": [
    "# Hvilken målform?"
   ]
  },
  {
   "cell_type": "code",
   "execution_count": 19,
   "metadata": {},
   "outputs": [
    {
     "data": {
      "text/markdown": [
       "Updated file `C:\\Users\\larsj\\Documents\\GitHub\\Ordbok_og_leksikografi\\language_check.py`"
      ],
      "text/plain": [
       "<IPython.core.display.Markdown object>"
      ]
     },
     "metadata": {},
     "output_type": "display_data"
    },
    {
     "data": {
      "text/html": [
       "<style>@import url(\n",
       "http://fonts.googleapis.com/css?family=Lato|Philosopher|Montserrat|Source+Code+Pro|Istok+Web|Philosopher|Assistant:200,400,700);\n",
       "\n",
       "/*\n",
       "#notebook-container {\n",
       "\t-webkit-box-shadow: none;\n",
       "\tbox-shadow: none;\n",
       "}\n",
       "*/\n",
       "\n",
       "h1, h2, h3, h4, h5, h6 {\n",
       "\tfont-family: 'Montserrat', sans-serif;\n",
       "\tline-height: 2em;\n",
       "    color: #004f99;\n",
       "    font-weight: 600;\n",
       "}\n",
       "\n",
       "h1 { font-size: 4.5em; }\n",
       "h2 { font-size: 4em; }\n",
       "h3 { font-size: 3.5em; }\n",
       "h4 { font-size: 3em; }\n",
       "h5 { font-size: 2.5em; color:DarkSlateGray; }\n",
       "h6 { font-size: 2em; }\n",
       "\n",
       "p {\n",
       "\tfont-family: 'Assistant', sans-serif; \n",
       "\tfont-size: 1.2em;\n",
       "\tline-height: 1.4em;\n",
       "\tcolor: black;\n",
       "}\n",
       "p code {\n",
       "\tfont-size:0.9em;\n",
       "}\n",
       "div.input_area {\n",
       "\tborder:none !important;\n",
       "\tborder-left:1px solid #ff851b !important\n",
       "}\n",
       "\n",
       "span.cm-keyword {\n",
       "\tcolor:#339966 !important;\n",
       "}\n",
       "span.nn {  /*span.cm-variable, span.cm-property*/\n",
       "\tcolor: #3399ff !important;\n",
       "}\n",
       "div.CodeMirror {\n",
       "\tfont-family: 'Inconsolata', monospace;\n",
       "\tfont-size: 1.1em;\n",
       "\t\n",
       "}\n",
       "</style>"
      ],
      "text/plain": [
       "<IPython.core.display.HTML object>"
      ]
     },
     "execution_count": 19,
     "metadata": {},
     "output_type": "execute_result"
    }
   ],
   "source": [
    "from dhlab.module_update import update, css\n",
    "update('language_check', overwrite=True)\n",
    "from language_check import check_text\n",
    "css()"
   ]
  },
  {
   "cell_type": "markdown",
   "metadata": {},
   "source": [
    "## Lim inn aktuell tekst\n",
    "Høyest score vinner"
   ]
  },
  {
   "cell_type": "code",
   "execution_count": 9,
   "metadata": {},
   "outputs": [
    {
     "data": {
      "text/plain": [
       "{'nno': 0.11959086639262595, 'nob': 0.09661988415758205}"
      ]
     },
     "execution_count": 9,
     "metadata": {},
     "output_type": "execute_result"
    }
   ],
   "source": [
    "check_text('Eg vil ikkje dit')"
   ]
  },
  {
   "cell_type": "code",
   "execution_count": 11,
   "metadata": {},
   "outputs": [
    {
     "data": {
      "text/plain": [
       "{'nno': 0.11699187209039563, 'nob': 0.14420427016009574}"
      ]
     },
     "execution_count": 11,
     "metadata": {},
     "output_type": "execute_result"
    }
   ],
   "source": [
    "check_text('Jeg vil ikke dit')"
   ]
  },
  {
   "cell_type": "code",
   "execution_count": 12,
   "metadata": {},
   "outputs": [
    {
     "data": {
      "text/plain": [
       "{'nno': 0.09448026628130202, 'nob': 0.08575760440758984}"
      ]
     },
     "execution_count": 12,
     "metadata": {},
     "output_type": "execute_result"
    }
   ],
   "source": [
    "check_text('Ho gjekk seg vill')"
   ]
  },
  {
   "cell_type": "code",
   "execution_count": 14,
   "metadata": {},
   "outputs": [
    {
     "data": {
      "text/plain": [
       "{'nno': 0.08468284636955437, 'nob': 0.0987209632133883}"
      ]
     },
     "execution_count": 14,
     "metadata": {},
     "output_type": "execute_result"
    }
   ],
   "source": [
    "check_text('Hun gikk seg vill')"
   ]
  },
  {
   "cell_type": "markdown",
   "metadata": {},
   "source": [
    "Fra Klassekampen https://www.klassekampen.no/article/20191022/ARTICLE/191029992"
   ]
  },
  {
   "cell_type": "code",
   "execution_count": 17,
   "metadata": {},
   "outputs": [
    {
     "data": {
      "text/plain": [
       "{'nno': 0.6423633509426007, 'nob': 0.6335110946422301}"
      ]
     },
     "execution_count": 17,
     "metadata": {},
     "output_type": "execute_result"
    }
   ],
   "source": [
    "check_text(\"\"\"\n",
    "Må betala for eit rive byggFacebookFacebookTwitterTweetSkriv utSkriv utFAKTA\n",
    "Kriminalomsorga:\n",
    "\n",
    "• Som del i arbeidet med å spara og effektivisera, ønsker Kriminalomsorgsdirektoratet (KDI) å reforhandla husleige­avtalar med Statsbygg.\n",
    "\n",
    "• Statsbygg, som ligg under Kommunal- og moderniseringsdepartementet, har sidan 2009 hatt ansvaret for bygnings­massen til kriminalomsorga.\n",
    "\n",
    "• Etter lønn er husleige den største kostnaden for kriminalomsorga.\n",
    "\n",
    "LEIGE: Kriminalomsorga skal betala 700.000 kroner i året for ei fengselsbrakke i Tromsø til 2048. Det er berre eitt problem: Bygget blei rive i 2014.\n",
    "STATEN\n",
    "\n",
    "Eit gammalt flyfoto viser den kvite brakka utanfor murane kring Tromsø fengsel.\n",
    "\n",
    "Brakka blei sett opp i 2003/2004 og fungerte som ei avdeling for lågare tryggleik med 14 fengselsplassar, ei såkalla open avdeling.\n",
    "\n",
    "Men bygget var i dårleg stand og drifta stansa i 2012, etter ei sentral avgjerd i kriminalomsorga. Sommaren 2014 blei brakka fjerna.\n",
    "\n",
    "I eit dokument Klassekampen har fått innsyn i, går det fram at kriminalomsorga framleis betalar for bygget og skal gjere det i 29 år til.\n",
    "\n",
    "Ingen i Kriminalomsorgsdirektoratet vil uttala seg om saka, men i dokumentet «Innsparings- og effektiviseringsplan i Kriminalomsorgen», som er sendt Justisdepartementet, er direktoratet kritisk.\n",
    "\n",
    "«KDI finner det urimelig at kriminalomsorgen skal betale husleie for bygg som ikke kan benyttes», skriv dei.\n",
    "\n",
    "PENGEFLYTTING I STATEN\n",
    "\n",
    "Sidan 2009 har Statsbygg eigd eigedomsmassen som Kriminalomsorga nyttar landet over, også Tromsø fengsel.\n",
    "\n",
    "Mens Kriminalomsorgs­direktoratet ligg under Justisdepartementet, er Statsbygg ei statleg forvaltningsbedrift under Kommunal- og moderniseringsdepartementet.\n",
    "\n",
    "I dokumentet som Klassekampen har fått innsyn i, ønsker kriminalomsorga å reforhandla husleigeavtalar med Statsbygg og viser blant anna til det rivne bygget ved Tromsø fengsel.\n",
    "\n",
    "«Det vises til nedleggelse av åpen avdeling i Tromsø fengsel som ikke medførte bortfall av husleie til Statsbygg til tross for at bygget faktisk er revet», heiter det.\n",
    "\n",
    "700.000 I 34 ÅR\n",
    "\n",
    "KDI opplyser til Klassekampen at husleiga for Tromsø fengsel er 11 millionar kroner i året, for 6000 kvadratmeter. Bygget som er rive var 400 kvadratmeter.\n",
    "\n",
    "«Dvs. husleien for det bygget som er revet utgjør ca. 700.000 kroner per år», opplyser KDI, som fortel at leigekontrakten gjeld frå 1. januar 2009 og går ut 31. desember 2048.\n",
    "\n",
    "Med andre ord skal KDI etter planen betala for eit rive bygg utanfor Tromsø fengsel i til saman 34 år.\n",
    "\n",
    "I dokumentet blir det også vist til Bjørgvin fengsel i Bergen.\n",
    "\n",
    "«Videre må kriminalomsorgen fortsatt betale husleie for et bygg ved Bjørgvin som er stengt og skal kondemneres», heiter det i dokumentet.\n",
    "\n",
    "INGEN DETALJERT HUSLEIGE\n",
    "\n",
    "Andrea V. S. Eljarbø er sektordirektør for justis i Statsbygg. Ho fortel at då Statsbygg tok over ansvaret for bygningsmassen til fengsla i 2009, blei det ikkje utarbeidd ei husleige basert på kvart bygg på tomtene, men ei jamn huslege for alle bygga på kvar eigedom.\n",
    "\n",
    "– Ei stor portefølje skulle inn. Ein kan seia at nokre av bygningane som hadde veldig dårleg stand, hadde veldig høg leige i forhold til tilstanden dersom ein skulle dela opp leiga etter kvadratmeter per bygg, mens andre bygg hadde veldig låg leige, seier Eljarbø.\n",
    "\n",
    "Ho seier at mens Statsbygg skulle ha ansvar for løpande vedlikehald, skulle kriminalomsorga gjennom sitt departement sørga for midlar til å dekka vedlikehaldsetter­slepet.\n",
    "\n",
    "Nokre av bygningane som Statsbygg fekk inn i portefølje si frå kriminalomsorga, har ikkje vore rekningssvarande å rehabilitera og måtte derfor rivast, ifølge Eljarbø.\n",
    "\n",
    "– Med innlemminga av fengsla i Statsbygg var det semje om korleis leiga skulle fastsettast. Men totalleiga ville nok blitt den same for kriminalomsorga dersom ein skulle sett leige for kvart bygg, seier ho.\n",
    "\n",
    "Ho opplyser også at prinsippet er at staten opererer med ei kostnadsdekkande husleige og at statlege leigetakarar får kompensert for den reelle leiga.\n",
    "\n",
    "KDI opplyser at det er direktoratet sentralt som betalar for husleiga, og ikkje dei regionale og lokale fengsla.\n",
    "\n",
    "REGJERINGAS REFORM\n",
    "\n",
    "Bakgrunnen for at KDI er gått i gang med ein innsparings- og effektiviseringsplan, er som Klassekampen skreiv førre veke ein trongare økonomi i møte med regjeringas såkalla avbyråkratiserings- og effektiviseringsreform (ABE-reforma), også kalla ostehøvelkutt.\n",
    "\n",
    "Frå 2014 til 2019 er kriminalomsorga sine budsjett kutta med 250 millionar kroner, som følge av reforma. Mens det er lønnskostnadar som utgjer den største posten på budsjettet, er husleige nummer to.\n",
    "\"\"\")"
   ]
  },
  {
   "cell_type": "code",
   "execution_count": null,
   "metadata": {},
   "outputs": [],
   "source": []
  }
 ],
 "metadata": {
  "kernelspec": {
   "display_name": "Python 3",
   "language": "python",
   "name": "python3"
  },
  "language_info": {
   "codemirror_mode": {
    "name": "ipython",
    "version": 3
   },
   "file_extension": ".py",
   "mimetype": "text/x-python",
   "name": "python",
   "nbconvert_exporter": "python",
   "pygments_lexer": "ipython3",
   "version": "3.7.3"
  }
 },
 "nbformat": 4,
 "nbformat_minor": 2
}
